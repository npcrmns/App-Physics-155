{
 "cells": [
  {
   "cell_type": "markdown",
   "id": "e2dceec9",
   "metadata": {},
   "source": [
    "### Exercise 6.13: Wien's displacement constant\n",
    "\n",
    "Planck's radiation law tells us that the intensity of radiation per unit area and per unit wavelength $\\lambda$ from a black body at temperature $T$ is\n",
    "\n",
    "$$ I(\\lambda) = \\frac{2\\pi hc^2}{e^{\\frac{hc}{\\lambda k_BT}}-1} $$\n",
    "\n",
    "where $h$ is Planck's constant, $c$ is the speed of light, and $k_B$ is Boltzmann's constant."
   ]
  },
  {
   "cell_type": "markdown",
   "id": "1cf07216",
   "metadata": {},
   "source": [
    "<div class=\"alert alert-block alert-success\">\n",
    "<b>Tip:</b> Recall from the lecture that the most straightforward method to find a root of any function is the bisection method or binary method. To practice this, we are going to find the maximum of a function.\n",
    "</div>"
   ]
  },
  {
   "cell_type": "code",
   "execution_count": 1,
   "id": "5d0c9dc7",
   "metadata": {},
   "outputs": [],
   "source": [
    "import numpy as np\n",
    "import scipy.constants as sp\n",
    "import matplotlib.pyplot as plt\n",
    "import warnings\n",
    "\n",
    "# Suppress warnings\n",
    "warnings.filterwarnings('ignore')"
   ]
  },
  {
   "cell_type": "markdown",
   "id": "80a571fb",
   "metadata": {},
   "source": [
    "Note that by differentiating that the wavelength $\\lambda$ at which the emitted radiation is strongest is the solution of the equation\n",
    "\n",
    "$$ 5e^{-\\frac{hc}{\\lambda k_BT}} + \\frac{hc}{\\lambda k_BT} - 5 = 0$$\n",
    "\n",
    "Making the substitution\n",
    "\n",
    "$$ x = \\frac{hc}{\\lambda k_BT} $$\n",
    "\n",
    "and we can show that the wavelength of maximum radiation obeys the Wien displacement law\n",
    "\n",
    "$$ \\lambda = \\frac{b}{T} $$\n",
    "\n",
    "where the so-called *Wien displacement constant* is $b=\\frac{hc}{k_Bx}$, and $x$ is the solution to the nonlinear equation\n",
    "\n",
    "$$ 5e^{-x} + x - 5 = 0$$"
   ]
  },
  {
   "cell_type": "markdown",
   "id": "fcbb2e78",
   "metadata": {},
   "source": [
    "<div class=\"alert alert-block alert-info\">\n",
    "Write a program to solve this equation to an accuracy $\\epsilon=10^{-6}$ using the binary search method, and hence find a value for the displacement constant $b$.\n",
    "</div>"
   ]
  },
  {
   "cell_type": "code",
   "execution_count": 2,
   "id": "841828c8",
   "metadata": {},
   "outputs": [],
   "source": [
    "def nonlinear_eq(x):\n",
    "    return 5*np.exp(-x) + x - 5"
   ]
  },
  {
   "cell_type": "code",
   "execution_count": 3,
   "id": "5053597a",
   "metadata": {},
   "outputs": [],
   "source": [
    "def midpoint(left_point, right_point):\n",
    "    return (left_point + right_point)/2"
   ]
  },
  {
   "cell_type": "code",
   "execution_count": 4,
   "id": "54943ec8",
   "metadata": {},
   "outputs": [],
   "source": [
    "# While loop iterates until the distance between the points is less than the accuracy value\n",
    "accuracy = 1e-6 \n",
    "\n",
    "def bisection_func(a, b):\n",
    "    left_point = a\n",
    "    right_point = b\n",
    "    midpt = midpoint(left_point, right_point)\n",
    "    \n",
    "    # Checks if f(a) and f(b) have opposite signs\n",
    "    if nonlinear_eq(a)*nonlinear_eq(b) >= 0:\n",
    "        print(\"Bisection method is not applicable -- zero or even number of crossings found\")\n",
    "        return np.NaN\n",
    "    \n",
    "    # Iterates over the function until accuracy is met\n",
    "    while right_point - midpt > accuracy:\n",
    "        if nonlinear_eq(a)*nonlinear_eq(midpt) < 0: # Crossing has occured\n",
    "            right_point = midpt \n",
    "        else:\n",
    "            left_point = midpt\n",
    "        midpt = midpoint(left_point, right_point)\n",
    "    return midpt"
   ]
  },
  {
   "cell_type": "code",
   "execution_count": 5,
   "id": "f158a96b",
   "metadata": {},
   "outputs": [],
   "source": [
    "solution = bisection_func(4,6)\n",
    "\n",
    "def wien_constant(solution):\n",
    "    Wien = (sp.h*sp.c)/(sp.Boltzmann*solution)\n",
    "    return Wien"
   ]
  },
  {
   "cell_type": "code",
   "execution_count": 6,
   "id": "c9e805a9",
   "metadata": {},
   "outputs": [
    {
     "name": "stdout",
     "output_type": "stream",
     "text": [
      "The calculated Wien displacement constant is 0.0028978 while the actual value is 0.0028978.\n"
     ]
    }
   ],
   "source": [
    "print(\"The calculated Wien displacement constant is {:.7f} while the actual value is {:.7f}.\".format(wien_constant(solution), sp.Wien))"
   ]
  },
  {
   "cell_type": "code",
   "execution_count": 7,
   "id": "0ee0a7d3",
   "metadata": {},
   "outputs": [],
   "source": [
    "b = wien_constant(solution)\n",
    "sun_wavelength = 502e-9 # Peak wavelength in the sun's emitted radiation in meters\n",
    "\n",
    "def surface_temp(Lambda):\n",
    "    temperature = b/Lambda\n",
    "    return temperature"
   ]
  },
  {
   "cell_type": "code",
   "execution_count": 8,
   "id": "0f32f8d4",
   "metadata": {
    "scrolled": true
   },
   "outputs": [
    {
     "name": "stdout",
     "output_type": "stream",
     "text": [
      "The estimated surface temperature of the Sun is 5772 K.\n"
     ]
    }
   ],
   "source": [
    "print(\"The estimated surface temperature of the Sun is {:.0f} K.\".format(surface_temp(sun_wavelength)))"
   ]
  },
  {
   "cell_type": "markdown",
   "id": "feef2eba",
   "metadata": {},
   "source": [
    "<div class=\"alert alert-block alert-info\">\n",
    "Plot the temperature $T(\\lambda)$ for peak wavelengths $\\lambda$ within the visible range, and indicate how the surface temperature of certain stars fall within this curve. \n",
    "</div>"
   ]
  },
  {
   "cell_type": "code",
   "execution_count": 9,
   "id": "99ba37b4",
   "metadata": {},
   "outputs": [],
   "source": [
    "# Array of wavelengths of up to 3 micrometers and their corresponding temperatures in Kelvin\n",
    "# colortemp_array = np.array([surface_temp(Lambda) for Lambda in wavelength_array])\n",
    "\n",
    "wavelength_array = np.arange(0, 3e-6, 1e-9)[1:] # [1:] removes the first element"
   ]
  },
  {
   "cell_type": "code",
   "execution_count": 10,
   "id": "68f61f9b",
   "metadata": {
    "scrolled": true
   },
   "outputs": [],
   "source": [
    "# Spectral radiance or intensity as defined on the book\n",
    "def spectral_radiance(Lambda, T):\n",
    "    intensity = (2*np.pi*sp.h*((sp.c)**2)*(Lambda)**(-5))/(np.exp((sp.h*sp.c)/(Lambda*T*sp.Boltzmann)))\n",
    "    return intensity"
   ]
  },
  {
   "cell_type": "code",
   "execution_count": 11,
   "id": "001647ca",
   "metadata": {
    "scrolled": true
   },
   "outputs": [
    {
     "data": {
      "image/png": "[encoded data removed]",
      "text/plain": [
       "<Figure size 432x288 with 1 Axes>"
      ]
     },
     "metadata": {
      "needs_background": "light"
     },
     "output_type": "display_data"
    }
   ],
   "source": [
    "# Initializes an array that will be needed for the plotting\n",
    "colortemp_array = np.array([3000, 4000, 5000, 6000])\n",
    "count = colortemp_array.size\n",
    "\n",
    "plot_colors = [\"slategrey\", \"red\", \"orange\", \"blue\"]\n",
    "\n",
    "for i, colors in zip(range(count), plot_colors):\n",
    "    plt.plot(wavelength_array*1e9, spectral_radiance(wavelength_array, colortemp_array[i])*1e-14, color = plot_colors[i], label = \"{} K\".format(colortemp_array[i]))\n",
    "    plt.xlabel(r\"Wavelength (nm)\")\n",
    "    plt.ylabel(r\"Intensity\")\n",
    "    plt.title(\"Blackbody radiation for varying surface temperatures\")\n",
    "    plt.legend()\n",
    "\n",
    "plt.savefig(\"blackbody radiation.png\", dpi=1000)"
   ]
  },
  {
   "cell_type": "markdown",
   "id": "349c7e84",
   "metadata": {},
   "source": [
    "***"
   ]
  },
  {
   "cell_type": "markdown",
   "id": "28f44e22",
   "metadata": {},
   "source": [
    "Note that the visible light spectrum ranges from 380 nm to 740 nm."
   ]
  },
  {
   "cell_type": "code",
   "execution_count": 12,
   "id": "b16fe610",
   "metadata": {
    "scrolled": false
   },
   "outputs": [
    {
     "data": {
      "image/png": "[encoded data removed]",
      "text/plain": [
       "<Figure size 432x288 with 1 Axes>"
      ]
     },
     "metadata": {
      "needs_background": "light"
     },
     "output_type": "display_data"
    }
   ],
   "source": [
    "# Array of the peak wavelengths in the visible spectrum and their corresponding temperatures in Kelvin\n",
    "# spectrum_wavelength = np.array([400e-9, 425e-9, 470e-9, 550e-9, 600e-9, 630e-9, 665e-9])\n",
    "# spectrum_temp = np.array([surface_temp(Lambda) for Lambda in spectrum_wavelength])\n",
    "# dydx = surface_temp(wavelength_span)\n",
    "\n",
    "wavelength_span = np.arange(3.8e-7, 7.4e-7, 1e-9)\n",
    "\n",
    "plt.plot(wavelength_span*1e9, surface_temp(wavelength_span), color = \"b\")\n",
    "#plt.axvline(x = 740, color = \"red\", linestyle = \"dashed\")\n",
    "#plt.axvline(x = 625, color = \"orange\", linestyle = \"dashed\") \n",
    "#plt.axvline(x = 445, color = \"blue\", linestyle = \"dashed\")\n",
    "plt.xlabel(r\"Wavelength (nm)\")\n",
    "plt.ylabel(r\"Temperature (K)\")\n",
    "plt.title(\"Absolute temperature as a function of wavelengths in visible spectrum\", fontsize = 9)\n",
    "plt.savefig(\"temperature vs wavelength.png\", dpi=1000)\n",
    "\n",
    "# plt.scatter(wavelength_span*1e9, surface_temp(wavelength_span), c = dydx, cmap = \"inferno_r\") # _r reverses the cmap color direction\n",
    "# plt.colorbar(label=\"Temperature (K)\")"
   ]
  },
  {
   "cell_type": "markdown",
   "id": "11bae693",
   "metadata": {},
   "source": [
    "***"
   ]
  },
  {
   "cell_type": "markdown",
   "id": "3529da29",
   "metadata": {},
   "source": [
    "### Wien's Displacement Law"
   ]
  },
  {
   "cell_type": "code",
   "execution_count": 13,
   "id": "519a6cc6",
   "metadata": {},
   "outputs": [],
   "source": [
    "stars_array = [\"Sun\", \"Betelgeuse\", \"Rigel\", \"Bellatrix\", \"Saiph\", \"Mintaka\"]\n",
    "surfaceTemp_array = np.array([5778, 3500, 11000, 22000, 26500, 31800])\n",
    "peakWavelength_array = wien_constant(solution) / surfaceTemp_array\n",
    "\n",
    "def peak_wavelength(T):\n",
    "    altlambda = wien_constant(solution) / T\n",
    "    return altlambda\n",
    "\n",
    "# Superimposed plot arrays\n",
    "orionstars_temp = np.linspace(3500, 32000, 1000)\n",
    "orionstars_wv = np.array([peak_wavelength(T) for T in orionstars_temp])"
   ]
  },
  {
   "cell_type": "code",
   "execution_count": 14,
   "id": "6b58e9bc",
   "metadata": {
    "scrolled": true
   },
   "outputs": [
    {
     "data": {
      "image/png": "[encoded data removed]",
      "text/plain": [
       "<Figure size 432x288 with 1 Axes>"
      ]
     },
     "metadata": {
      "needs_background": "light"
     },
     "output_type": "display_data"
    }
   ],
   "source": [
    "counter = surfaceTemp_array.size\n",
    "starcolor_array = [\"orange\", \"salmon\", \"lightskyblue\", \"lightblue\", \"powderblue\", \"lightcyan\"]\n",
    "\n",
    "for k in range(counter):\n",
    "    plt.scatter(surfaceTemp_array[k], peakWavelength_array[k]*1e9, color = starcolor_array[k], s = 50) # s for marker size\n",
    "    plt.annotate(stars_array[k], (surfaceTemp_array[k] + 650, peakWavelength_array[k]*1e9 + 30), fontsize = 9)\n",
    "    plt.axhline(y = 740, color = \"red\", linestyle = \"dashed\")\n",
    "    plt.axhline(y = 625, color = \"orange\", linestyle = \"dashed\") \n",
    "    plt.axhline(y = 445, color = \"royalblue\", linestyle = \"dashed\")\n",
    "    plt.xlim((0, 38500))\n",
    "    plt.ylim((0, 950))\n",
    "    plt.xlabel(r\"Temperature (K)\")\n",
    "    plt.ylabel(r\"Peak wavelength (nm)\")\n",
    "    plt.title(\"Surface temperatures and wavelength of light emitted by the stars comprising Orion\", fontsize =  10)\n",
    "    \n",
    "    # Hides the first zero in major ticks in axis\n",
    "    #ax = plt.gca()\n",
    "    #xticks = ax.xaxis.get_major_ticks()\n",
    "    #yticks = ax.yaxis.get_major_ticks() \n",
    "    #xticks[0].label1.set_visible(False)\n",
    "    #yticks[0].label1.set_visible(False)\n",
    "    \n",
    "plt.plot(orionstars_temp, orionstars_wv*1e9, color = \"slategrey\", linestyle = \":\")\n",
    "plt.savefig(\"stars of orion.png\", dpi = 1000)"
   ]
  }
 ],
 "metadata": {
  "kernelspec": {
   "display_name": "Python 3 (ipykernel)",
   "language": "python",
   "name": "python3"
  },
  "language_info": {
   "codemirror_mode": {
    "name": "ipython",
    "version": 3
   },
   "file_extension": ".py",
   "mimetype": "text/x-python",
   "name": "python",
   "nbconvert_exporter": "python",
   "pygments_lexer": "ipython3",
   "version": "3.9.12"
  }
 },
 "nbformat": 4,
 "nbformat_minor": 5
}

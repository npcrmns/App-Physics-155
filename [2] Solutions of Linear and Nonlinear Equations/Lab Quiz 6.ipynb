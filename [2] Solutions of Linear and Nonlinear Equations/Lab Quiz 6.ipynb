{
 "cells": [
  {
   "cell_type": "markdown",
   "id": "cf3ac4d0",
   "metadata": {},
   "source": [
    "### Exercise 6.13: Wien's displacement constant\n",
    "\n",
    "Planck's radiation law tells us that the intensity of radiation per unit area and per unit wavelength $\\lambda$ from a black body at temperature $T$ is\n",
    "\n",
    "$$ I(\\lambda) = \\frac{2\\pi hc^2}{e^{\\frac{hc}{\\lambda k_BT}}-1} $$\n",
    "\n",
    "where $h$ is Planck's constant, $c$ is the speed of light, and $k_B$ is Boltzmann's constant."
   ]
  },
  {
   "cell_type": "markdown",
   "id": "5f4fabc4",
   "metadata": {},
   "source": [
    "<div class=\"alert alert-block alert-success\">\n",
    "<b>Tip:</b> Recall from the lecture that the most straightforward method to find a root of any function is the bisection method or binary method. To practice this, we are going to find the maximum of a function.\n",
    "</div>"
   ]
  },
  {
   "cell_type": "code",
   "execution_count": 14,
   "id": "1cedc7e4",
   "metadata": {},
   "outputs": [],
   "source": [
    "import numpy as np\n",
    "import scipy.constants as sp\n",
    "import matplotlib.pyplot as plt"
   ]
  },
  {
   "cell_type": "markdown",
   "id": "f6211a73",
   "metadata": {},
   "source": [
    "Note that by differentiating that the wavelength $\\lambda$ at which the emitted radiation is strongest is the solution of the equation\n",
    "\n",
    "$$ 5e^{-\\frac{hc}{\\lambda k_BT}} + \\frac{hc}{\\lambda k_BT} - 5 = 0$$\n",
    "\n",
    "Making the substitution\n",
    "\n",
    "$$ x = \\frac{hc}{\\lambda k_BT} $$\n",
    "\n",
    "and we can show that the wavelength of maximum radiation obeys the Wien displacement law\n",
    "\n",
    "$$ \\lambda = \\frac{b}{T} $$\n",
    "\n",
    "where the so-called *Wien displacement constant* is $b=\\frac{hc}{k_Bx}$, and $x$ is the solution to the nonlinear equation\n",
    "\n",
    "$$ 5e^{-x} + x - 5 = 0$$"
   ]
  },
  {
   "cell_type": "markdown",
   "id": "2d9abb87",
   "metadata": {},
   "source": [
    "<div class=\"alert alert-block alert-info\">\n",
    "Write a program to solve this equation to an accuracy $\\epsilon=10^{-6}$ using the binary search method, and hence find a value for the displacement constant $b$.\n",
    "</div>"
   ]
  },
  {
   "cell_type": "code",
   "execution_count": 2,
   "id": "fe81dfb9",
   "metadata": {},
   "outputs": [],
   "source": [
    "def nonlinear_eq(x):\n",
    "    return 5*np.exp(-x) + x - 5"
   ]
  },
  {
   "cell_type": "code",
   "execution_count": 3,
   "id": "3ddca431",
   "metadata": {},
   "outputs": [],
   "source": [
    "def midpoint(left_point, right_point):\n",
    "    return (left_point + right_point)/2"
   ]
  },
  {
   "cell_type": "code",
   "execution_count": 29,
   "id": "e151a93f",
   "metadata": {},
   "outputs": [],
   "source": [
    "# While loop iterates until the distance between the points is less than the accuracy value\n",
    "accuracy = 1e-6 \n",
    "\n",
    "def bisection_func(a, b):\n",
    "    left_point = a\n",
    "    right_point = b\n",
    "    midpt = midpoint(left_point, right_point)\n",
    "    \n",
    "    # Checks if f(a) and f(b) have opposite signs\n",
    "    if nonlinear_eq(a)*nonlinear_eq(b) >= 0:\n",
    "        print(\"Bisection method is not applicable -- zero or even number of crossings found\")\n",
    "        return np.NaN\n",
    "    \n",
    "    # Iterates over the function until accuracy is met\n",
    "    while right_point - midpt > accuracy:\n",
    "        if nonlinear_eq(a)*nonlinear_eq(midpt) < 0: # Crossing has occured\n",
    "            right_point = midpt \n",
    "        else:\n",
    "            left_point = midpt\n",
    "        midpt = midpoint(left_point, right_point)\n",
    "    return midpt\n",
    "\n",
    "solution = bisection_func(4,6)"
   ]
  },
  {
   "cell_type": "code",
   "execution_count": 34,
   "id": "534037e3",
   "metadata": {},
   "outputs": [],
   "source": [
    "def wien_constant(solution):\n",
    "    Wien = (sp.h*sp.c)/(sp.Boltzmann*solution)\n",
    "    return Wien"
   ]
  },
  {
   "cell_type": "code",
   "execution_count": 37,
   "id": "bca77690",
   "metadata": {},
   "outputs": [
    {
     "name": "stdout",
     "output_type": "stream",
     "text": [
      "The calculated Wien displacement constant is 0.0028978 while the actual value is 0.0028978.\n"
     ]
    }
   ],
   "source": [
    "print(\"The calculated Wien displacement constant is {:.7f} while the actual value is {:.7f}.\".format(wien_constant(solution), sp.Wien))"
   ]
  },
  {
   "cell_type": "code",
   "execution_count": 69,
   "id": "7f01c9e3",
   "metadata": {},
   "outputs": [],
   "source": [
    "b = wien_constant(solution)\n",
    "sun_wavelength = 502e-9 # Peak wavelength in the sun's emitted radiation in meters\n",
    "\n",
    "def surface_temp(Lambda):\n",
    "    temperature = b/Lambda\n",
    "    return temperature"
   ]
  },
  {
   "cell_type": "code",
   "execution_count": 70,
   "id": "5cdd33ee",
   "metadata": {
    "scrolled": true
   },
   "outputs": [
    {
     "name": "stdout",
     "output_type": "stream",
     "text": [
      "The estimated surface temperature of the Sun is 5772 K.\n"
     ]
    }
   ],
   "source": [
    "print(\"The estimated surface temperature of the Sun is {:.0f} K.\".format(surface_temp(sun_wavelength)))"
   ]
  },
  {
   "cell_type": "markdown",
   "id": "e973aac2",
   "metadata": {},
   "source": [
    "<div class=\"alert alert-block alert-info\">\n",
    "Plot the temperature $T(\\lambda)$ for peak wavelengths $\\lambda$ within the visible range, and indicate how the surface temperature of certain stars fall within this curve. \n",
    "</div>"
   ]
  },
  {
   "cell_type": "code",
   "execution_count": 110,
   "id": "e66b0204",
   "metadata": {},
   "outputs": [],
   "source": [
    "def peak_wavelength(surface_temp):\n",
    "    blackbody_temp = b/surface_temp\n",
    "    return blackbody_temp"
   ]
  },
  {
   "cell_type": "code",
   "execution_count": null,
   "id": "18b739fb",
   "metadata": {},
   "outputs": [],
   "source": [
    "# Array of surface temperatures (in Kelvin) of the stars in Orion and their corresponding wavelengths in meters\n",
    "surfacetemp_array = np.array([3300, 12100, 22000, 318000]).astype(int)\n",
    "wavelength_array = np.array([peak_wavelength(temp) for temp in surfacetemp_array]) # Lambda\n",
    "st_array = surfacetemp_array.size"
   ]
  },
  {
   "cell_type": "code",
   "execution_count": null,
   "id": "f2c0ddfa",
   "metadata": {},
   "outputs": [],
   "source": [
    "# Spectral radiance as defined on the book\n",
    "def spectral_radiance(Lambda, T):\n",
    "    intensity = (2*np.pi*sp.h*((sp.c)**2)*(Lambda)**(-5))/(np.exp((sp.h*sp.c)/(Lambda*T*sp.Boltzmann)))\n",
    "    return intensity\n",
    "\n",
    "# Initializes an array that will be appended by the code in the next line\n",
    "spectralrad_array = np.zeros(st_array, float)\n",
    "\n",
    "for i in range(st_array):\n",
    "    spectralrad_array[i] = spectral_radiance(wavelength_array[i], surfacetemp_array[i])"
   ]
  },
  {
   "cell_type": "code",
   "execution_count": 111,
   "id": "0083d6db",
   "metadata": {},
   "outputs": [
    {
     "data": {
      "text/plain": [
       "array([8.78112818e-07, 2.39485314e-07, 1.31716923e-07, 9.11249151e-09])"
      ]
     },
     "execution_count": 111,
     "metadata": {},
     "output_type": "execute_result"
    }
   ],
   "source": []
  }
 ],
 "metadata": {
  "kernelspec": {
   "display_name": "Python 3 (ipykernel)",
   "language": "python",
   "name": "python3"
  },
  "language_info": {
   "codemirror_mode": {
    "name": "ipython",
    "version": 3
   },
   "file_extension": ".py",
   "mimetype": "text/x-python",
   "name": "python",
   "nbconvert_exporter": "python",
   "pygments_lexer": "ipython3",
   "version": "3.9.12"
  }
 },
 "nbformat": 4,
 "nbformat_minor": 5
}

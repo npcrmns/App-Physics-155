{
 "cells": [
  {
   "cell_type": "markdown",
   "id": "8d8422ca",
   "metadata": {},
   "source": [
    "### Lab Quiz 4\n",
    "\n",
    "Write a function that will encode matrix A and vector B in Ex. 6.7A of Newman, i.e. ```resistor_chain(N)``` gives me an $N$ by $N$ matrix of coefficients for the $A\\vec{x}=B$ problem. The code was patterned from how Newman did the algorithm for setting up an $N$ by $N$ banded matrix in analyzing a circuit."
   ]
  },
  {
   "cell_type": "code",
   "execution_count": 1,
   "id": "3f8b1751",
   "metadata": {
    "scrolled": true
   },
   "outputs": [
    {
     "data": {
      "text/plain": [
       "array([[ 3, -1, -1,  0,  0,  0],\n",
       "       [-1,  4, -1, -1,  0,  0],\n",
       "       [-1, -1,  4, -1, -1,  0],\n",
       "       [ 0, -1, -1,  4, -1, -1],\n",
       "       [ 0,  0, -1, -1,  4, -1],\n",
       "       [ 0,  0,  0, -1, -1,  3]])"
      ]
     },
     "execution_count": 1,
     "metadata": {},
     "output_type": "execute_result"
    }
   ],
   "source": [
    "import numpy as np\n",
    "\n",
    "input_voltage = 5\n",
    "\n",
    "def resistor_chain(N): \n",
    "    \n",
    "    matrixA = np.zeros([N,N], int)\n",
    "    \n",
    "    for i in range(N-2):\n",
    "        matrixA[i,i] = 4\n",
    "        matrixA[i,i+1] = matrixA[i+1,i] = matrixA[i,i+2] = matrixA[i+2,i] = -1\n",
    "        \n",
    "    matrixA[0,0] = matrixA[N-1,N-1] = 3\n",
    "    matrixA[N-2,N-1] = matrixA[N-1,N-2] = -1\n",
    "    matrixA[N-2,N-2] = 4\n",
    "    \n",
    "    #column vector in the matrix equation Ax=b\n",
    "    vector_b = np.zeros(N, int)\n",
    "    vector_b[0] = vector_b[1] = input_voltage\n",
    "    \n",
    "    return matrixA\n",
    "\n",
    "resistor_chain(6)"
   ]
  },
  {
   "cell_type": "code",
   "execution_count": 2,
   "id": "1f6ebb1f",
   "metadata": {},
   "outputs": [
    {
     "data": {
      "text/plain": [
       "array([[ 3, -1,  0,  0],\n",
       "       [-1,  4, -1,  0],\n",
       "       [ 0, -1,  4, -1],\n",
       "       [ 0,  0, -1,  3]])"
      ]
     },
     "execution_count": 2,
     "metadata": {},
     "output_type": "execute_result"
    }
   ],
   "source": [
    "import numpy as np\n",
    "\n",
    "N = 4\n",
    "\n",
    "A = np.zeros([N,N] ,int)\n",
    "\n",
    "for i in range(N-1):\n",
    "    A[i,i] = 4\n",
    "    A[i,i+1] = -1\n",
    "    A[i+1,i] = -1\n",
    "    \n",
    "A[0,0] = 3\n",
    "A[N-1,N-1] = 3\n",
    "v = np.zeros(N,float)\n",
    "v[0] = 1\n",
    "\n",
    "A"
   ]
  }
 ],
 "metadata": {
  "kernelspec": {
   "display_name": "Python 3 (ipykernel)",
   "language": "python",
   "name": "python3"
  },
  "language_info": {
   "codemirror_mode": {
    "name": "ipython",
    "version": 3
   },
   "file_extension": ".py",
   "mimetype": "text/x-python",
   "name": "python",
   "nbconvert_exporter": "python",
   "pygments_lexer": "ipython3",
   "version": "3.9.12"
  }
 },
 "nbformat": 4,
 "nbformat_minor": 5
}
